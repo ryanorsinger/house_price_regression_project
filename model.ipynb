{
 "cells": [
  {
   "cell_type": "code",
   "execution_count": 19,
   "metadata": {},
   "outputs": [],
   "source": [
    "import pandas as pd\n",
    "import numpy as np\n",
    "import matplotlib.pyplot as plt\n",
    "import seaborn as sns\n",
    "from sklearn.model_selection import train_test_split\n",
    "from sklearn.metrics import mean_squared_error,r2_score,explained_variance_score\n",
    "from sklearn.preprocessing import StandardScaler,MinMaxScaler\n",
    "from sklearn.linear_model import LinearRegression\n",
    "from math import sqrt\n",
    "import warnings\n",
    "warnings.filterwarnings(\"ignore\")\n",
    "import statsmodels.api as sm\n",
    "from statsmodels.sandbox.regression.predstd import wls_prediction_std\n",
    "\n",
    "# Import data acquisition and prep\n",
    "from acquire import get_data\n",
    "from prep import prep_data\n",
    "\n",
    "#import our scripts that assist data science workflow\n",
    "import split_scale\n",
    "import features\n",
    "# import evaluate"
   ]
  },
  {
   "cell_type": "code",
   "execution_count": 12,
   "metadata": {},
   "outputs": [
    {
     "name": "stdout",
     "output_type": "stream",
     "text": [
      "Reading data from ./zillow.csv\n"
     ]
    }
   ],
   "source": [
    "# This cell acquires and prepares the data\n",
    "# Get the raw data from .csv or MySQL query\n",
    "raw = get_data()\n",
    "\n",
    "# Remove nulls\n",
    "df = prep_data(raw)"
   ]
  },
  {
   "cell_type": "code",
   "execution_count": 13,
   "metadata": {},
   "outputs": [],
   "source": [
    "train, test = split_scale.split_my_data(df)"
   ]
  },
  {
   "cell_type": "code",
   "execution_count": 14,
   "metadata": {},
   "outputs": [],
   "source": [
    "columns_to_drop = [\"taxvalue\"]"
   ]
  },
  {
   "cell_type": "code",
   "execution_count": 15,
   "metadata": {},
   "outputs": [],
   "source": [
    "scaler, train_scaled, test_scaled = split_scale.standard_scaler(train.drop(columns=columns_to_drop),test.drop(columns=columns_to_drop))"
   ]
  },
  {
   "cell_type": "code",
   "execution_count": 16,
   "metadata": {},
   "outputs": [
    {
     "name": "stdout",
     "output_type": "stream",
     "text": [
      "       bathrooms  bedrooms      sqft\n",
      "4432    0.156363  0.782807  0.180526\n",
      "6689    0.156363 -0.187296 -0.171848\n",
      "14953  -0.341933 -1.157398 -0.406079\n",
      "14879   0.654659  0.782807  0.335652\n",
      "7771   -0.341933 -1.157398 -0.212941\n",
      "...          ...       ...       ...\n",
      "13565   0.654659 -0.187296 -0.154384\n",
      "7863   -0.341933 -0.187296 -0.583807\n",
      "15512  -0.341933 -0.187296 -0.124591\n",
      "17876  -0.341933 -0.187296 -0.712223\n",
      "15862  -1.338524 -1.157398 -1.205341\n",
      "\n",
      "[14570 rows x 3 columns]\n",
      "       bathrooms  bedrooms      sqft\n",
      "3712    0.156363  0.782807 -0.047541\n",
      "12581  -1.338524 -1.157398 -0.353685\n",
      "16966  -1.338524 -1.157398 -1.011176\n",
      "13563  -0.341933  0.782807 -0.173903\n",
      "11764   0.654659 -0.187296  0.835962\n",
      "...          ...       ...       ...\n",
      "4162    1.651250 -0.187296  6.382511\n",
      "14293   0.654659 -0.187296  0.888355\n",
      "17782   1.651250  0.782807  2.540300\n",
      "17930  -1.338524 -1.157398 -1.019395\n",
      "970    -0.341933 -0.187296 -0.018776\n",
      "\n",
      "[3643 rows x 3 columns]\n"
     ]
    }
   ],
   "source": [
    "print(train_scaled)\n",
    "print(test_scaled)"
   ]
  },
  {
   "cell_type": "code",
   "execution_count": 20,
   "metadata": {},
   "outputs": [],
   "source": [
    "X_train = train_scaled\n",
    "y_train = train[[\"taxvalue\"]]\n",
    "X_test = test_scaled\n",
    "y_test = test"
   ]
  },
  {
   "cell_type": "code",
   "execution_count": 33,
   "metadata": {},
   "outputs": [
    {
     "name": "stdout",
     "output_type": "stream",
     "text": [
      "The optimal number of features is 3\n"
     ]
    }
   ],
   "source": [
    "# Select the optimal number of features:\n",
    "optimal_number = features.optimal_number_of_features(X_train, y_train)\n",
    "optimal_number = optimal_number[0]\n",
    "print(\"The optimal number of features is\", optimal_number)"
   ]
  },
  {
   "cell_type": "code",
   "execution_count": 34,
   "metadata": {},
   "outputs": [
    {
     "data": {
      "text/plain": [
       "(Index(['bathrooms', 'bedrooms', 'sqft'], dtype='object'),\n",
       "        bathrooms  bedrooms      sqft\n",
       " 0       0.156363  0.782807  0.180526\n",
       " 1       0.156363 -0.187296 -0.171848\n",
       " 2      -0.341933 -1.157398 -0.406079\n",
       " 3       0.654659  0.782807  0.335652\n",
       " 4      -0.341933 -1.157398 -0.212941\n",
       " ...          ...       ...       ...\n",
       " 14565   0.654659 -0.187296 -0.154384\n",
       " 14566  -0.341933 -0.187296 -0.583807\n",
       " 14567  -0.341933 -0.187296 -0.124591\n",
       " 14568  -0.341933 -0.187296 -0.712223\n",
       " 14569  -1.338524 -1.157398 -1.205341\n",
       " \n",
       " [14570 rows x 3 columns],\n",
       "       bathrooms  bedrooms      sqft\n",
       " 0      0.156363  0.782807 -0.047541\n",
       " 1     -1.338524 -1.157398 -0.353685\n",
       " 2     -1.338524 -1.157398 -1.011176\n",
       " 3     -0.341933  0.782807 -0.173903\n",
       " 4      0.654659 -0.187296  0.835962\n",
       " ...         ...       ...       ...\n",
       " 3638   1.651250 -0.187296  6.382511\n",
       " 3639   0.654659 -0.187296  0.888355\n",
       " 3640   1.651250  0.782807  2.540300\n",
       " 3641  -1.338524 -1.157398 -1.019395\n",
       " 3642  -0.341933 -0.187296 -0.018776\n",
       " \n",
       " [3643 rows x 3 columns])"
      ]
     },
     "execution_count": 34,
     "metadata": {},
     "output_type": "execute_result"
    }
   ],
   "source": [
    "features.optimal_features(X_train, X_test, y_train, optimal_number)"
   ]
  },
  {
   "cell_type": "code",
   "execution_count": 46,
   "metadata": {},
   "outputs": [],
   "source": [
    "# First Model\n",
    "model = LinearRegression()\n",
    "model.fit(X_train, y_train)\n",
    "\n",
    "model.predict(X_train)\n",
    "predictions = model.predict(X_train)\n",
    "predictions = predictions.flatten()"
   ]
  },
  {
   "cell_type": "code",
   "execution_count": 55,
   "metadata": {},
   "outputs": [],
   "source": [
    "compare_model = pd.DataFrame()\n",
    "\n",
    "compare_model[\"actual\"] = y_train.taxvalue\n",
    "compare_model[\"predicted\"] = predictions\n",
    "compare_model[\"baseline\"] = y_train.mean()[0]"
   ]
  },
  {
   "cell_type": "code",
   "execution_count": 56,
   "metadata": {},
   "outputs": [
    {
     "data": {
      "text/html": [
       "<div>\n",
       "<style scoped>\n",
       "    .dataframe tbody tr th:only-of-type {\n",
       "        vertical-align: middle;\n",
       "    }\n",
       "\n",
       "    .dataframe tbody tr th {\n",
       "        vertical-align: top;\n",
       "    }\n",
       "\n",
       "    .dataframe thead th {\n",
       "        text-align: right;\n",
       "    }\n",
       "</style>\n",
       "<table border=\"1\" class=\"dataframe\">\n",
       "  <thead>\n",
       "    <tr style=\"text-align: right;\">\n",
       "      <th></th>\n",
       "      <th>actual</th>\n",
       "      <th>predicted</th>\n",
       "      <th>baseline</th>\n",
       "    </tr>\n",
       "  </thead>\n",
       "  <tbody>\n",
       "    <tr>\n",
       "      <th>4432</th>\n",
       "      <td>585076.0</td>\n",
       "      <td>492481.535711</td>\n",
       "      <td>518416.357172</td>\n",
       "    </tr>\n",
       "    <tr>\n",
       "      <th>6689</th>\n",
       "      <td>498687.0</td>\n",
       "      <td>475954.642133</td>\n",
       "      <td>518416.357172</td>\n",
       "    </tr>\n",
       "    <tr>\n",
       "      <th>14953</th>\n",
       "      <td>348230.0</td>\n",
       "      <td>487874.272191</td>\n",
       "      <td>518416.357172</td>\n",
       "    </tr>\n",
       "    <tr>\n",
       "      <th>14879</th>\n",
       "      <td>801085.0</td>\n",
       "      <td>588275.484738</td>\n",
       "      <td>518416.357172</td>\n",
       "    </tr>\n",
       "    <tr>\n",
       "      <th>7771</th>\n",
       "      <td>60425.0</td>\n",
       "      <td>575683.328057</td>\n",
       "      <td>518416.357172</td>\n",
       "    </tr>\n",
       "  </tbody>\n",
       "</table>\n",
       "</div>"
      ],
      "text/plain": [
       "         actual      predicted       baseline\n",
       "4432   585076.0  492481.535711  518416.357172\n",
       "6689   498687.0  475954.642133  518416.357172\n",
       "14953  348230.0  487874.272191  518416.357172\n",
       "14879  801085.0  588275.484738  518416.357172\n",
       "7771    60425.0  575683.328057  518416.357172"
      ]
     },
     "execution_count": 56,
     "metadata": {},
     "output_type": "execute_result"
    }
   ],
   "source": [
    "compare_model.head()"
   ]
  },
  {
   "cell_type": "code",
   "execution_count": null,
   "metadata": {},
   "outputs": [],
   "source": []
  }
 ],
 "metadata": {
  "kernelspec": {
   "display_name": "Python 3",
   "language": "python",
   "name": "python3"
  },
  "language_info": {
   "codemirror_mode": {
    "name": "ipython",
    "version": 3
   },
   "file_extension": ".py",
   "mimetype": "text/x-python",
   "name": "python",
   "nbconvert_exporter": "python",
   "pygments_lexer": "ipython3",
   "version": "3.7.3"
  }
 },
 "nbformat": 4,
 "nbformat_minor": 2
}
